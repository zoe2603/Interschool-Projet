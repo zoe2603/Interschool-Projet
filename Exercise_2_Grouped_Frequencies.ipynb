{
  "nbformat": 4,
  "nbformat_minor": 0,
  "metadata": {
    "colab": {
      "name": "Exercise_2_Grouped_Frequencies.ipynb",
      "provenance": [],
      "collapsed_sections": [],
      "include_colab_link": true
    },
    "kernelspec": {
      "name": "python3",
      "display_name": "Python 3"
    },
    "language_info": {
      "name": "python"
    }
  },
  "cells": [
    {
      "cell_type": "markdown",
      "metadata": {
        "id": "view-in-github",
        "colab_type": "text"
      },
      "source": [
        "<a href=\"https://colab.research.google.com/github/zoe2603/Interschool-Projet/blob/main/Exercise_2_Grouped_Frequencies.ipynb\" target=\"_parent\"><img src=\"https://colab.research.google.com/assets/colab-badge.svg\" alt=\"Open In Colab\"/></a>"
      ]
    },
    {
      "cell_type": "markdown",
      "source": [
        "# Grouped Frequencies"
      ],
      "metadata": {
        "id": "8gr3Yir2iNqm"
      }
    },
    {
      "cell_type": "markdown",
      "source": [
        "In this exercise we will organise data that contain a high variety of possible values, by grouping them into range-defined classes.\n"
      ],
      "metadata": {
        "id": "Y9jxauLqe7Jh"
      }
    },
    {
      "cell_type": "markdown",
      "source": [
        "We firstly import the needed libraries.\n",
        "We will need numpy which we shorten to *np* and matplotlib pyplot which we shorten to *plt*."
      ],
      "metadata": {
        "id": "GYbTYa4wiiUw"
      }
    },
    {
      "cell_type": "code",
      "source": [
        "import numpy as np\n",
        "%matplotlib inline\n",
        "import matplotlib.pyplot as plt"
      ],
      "metadata": {
        "id": "XNBkE7pMijZk"
      },
      "execution_count": 1,
      "outputs": []
    },
    {
      "cell_type": "markdown",
      "source": [
        "Our dataset will be the defined below, which includes the height of 490 students of a University."
      ],
      "metadata": {
        "id": "DUhGSO3Xjl7G"
      }
    },
    {
      "cell_type": "code",
      "source": [
        "data = [1.72, 1.78, 1.74, 1.62, 1.7, 1.68, 1.62, 1.65, 1.77, 1.82, 1.73, 1.65,\n",
        "        1.84, 1.63, 1.81, 1.61, 1.55, 1.61, 1.72, 1.8, 1.7, 1.53, 1.73, 1.58, \n",
        "        1.71, 1.62, 1.76, 1.78, 1.71, 1.87, 1.65, 1.67, 1.71, 1.66, 1.56, 1.86,\n",
        "        1.8, 1.78, 1.75, 1.74, 1.69, 1.69, 1.66, 1.76, 1.83, 1.67, 1.66, 1.73,\n",
        "        1.67, 1.69, 1.74, 1.68, 1.74, 1.9, 1.72, 1.83, 1.81, 1.59, 1.68, 1.59,\n",
        "        1.86, 1.94, 1.77, 1.6, 1.6, 1.67, 1.85, 1.7, 1.74, 1.75, 1.66, 1.66, \n",
        "        1.76, 1.78, 1.72, 1.6, 1.73, 1.77, 1.69, 1.76, 1.6, 1.61, 1.9, 1.84,\n",
        "        1.7, 1.73, 1.72, 1.73, 1.84, 1.73, 1.82, 1.69, 1.67, 1.75, 1.65, 1.76,\n",
        "        1.63, 1.75, 1.8, 1.53, 1.65, 1.71, 1.72, 1.87, 1.63, 1.68, 1.76, 1.65, \n",
        "        1.72, 1.62, 1.64, 1.72, 1.66, 1.61, 1.6, 1.66, 1.66, 1.81, 1.75, 1.64,\n",
        "        1.6, 1.52, 1.68, 1.74, 1.6, 1.77, 1.67, 1.84, 1.96, 1.85, 1.81, 1.69, \n",
        "        1.72, 1.78, 1.78, 1.74, 1.7, 1.63, 1.75, 1.62, 1.7, 1.83, 1.64, 1.62,\n",
        "        1.74, 1.56, 1.72, 1.8, 1.7, 1.6, 1.6, 1.68, 1.81, 1.72, 1.61, 1.79,\n",
        "        1.83, 1.79, 1.69, 1.67, 1.66, 1.61, 1.76, 1.72, 1.73, 1.86, 1.65, 1.7,\n",
        "        1.63, 1.62, 1.8, 1.8, 1.68, 1.68, 1.85, 1.66, 1.74, 1.76, 1.75, 1.67, \n",
        "        1.73, 1.57, 1.66, 1.82, 1.7, 1.78, 1.8, 1.89, 1.64, 1.77, 1.92, 1.58,\n",
        "        1.64, 1.68, 1.7, 1.69, 1.81, 1.85, 1.59, 1.91, 1.85, 1.59, 1.74, 1.89, \n",
        "        1.73, 1.6, 1.62, 1.78, 1.65, 1.66, 1.74, 1.64, 1.65, 1.84, 1.53, 1.73, \n",
        "        1.72, 1.74, 1.57, 1.71, 1.68, 1.83, 1.67, 1.65, 1.75, 1.66, 1.6, 1.66, \n",
        "        1.72, 1.79, 1.74, 1.8, 1.81, 1.54, 1.65, 1.6, 1.81, 1.66, 1.68, 1.76, \n",
        "        1.6, 1.79, 1.59, 1.59, 1.72, 1.75, 1.5, 1.74, 1.88, 1.62, 1.74, 1.76,\n",
        "        1.57, 1.63, 1.67, 1.83, 1.71, 1.8, 1.79, 1.7, 1.77, 1.69, 1.7, 1.58,\n",
        "        1.75, 1.7, 1.77, 1.73, 1.79, 1.8, 1.76, 1.67, 1.78, 1.63, 1.67, 1.76, \n",
        "        1.79, 1.76, 1.86, 1.73, 1.73, 1.72, 1.82, 1.76, 1.77, 1.61, 1.66, 1.63,\n",
        "        1.74, 1.8, 1.64, 1.65, 1.8, 1.85, 1.62, 1.7, 1.64, 1.77, 1.67, 1.79, \n",
        "        1.74, 1.75, 1.87, 1.69, 1.69, 1.74, 1.59, 1.64, 1.61, 1.78, 1.68, 1.82,\n",
        "        1.72, 1.63, 1.74, 1.74, 1.54, 1.91, 1.64, 1.74, 1.7, 1.76, 1.7, 1.65,\n",
        "        1.6, 1.73, 1.74, 1.63, 1.6, 1.65, 1.74, 1.82, 1.55, 1.75, 1.63, 1.7, \n",
        "        1.64, 1.7, 1.88, 1.63, 1.63, 1.78, 1.72, 1.77, 1.75, 1.74, 1.84, 1.65,\n",
        "        1.89, 1.87, 1.8, 1.85, 1.74, 1.7, 1.72, 1.78, 1.82, 1.75, 1.7, 1.82, \n",
        "        1.54, 1.82, 1.62, 1.95, 1.64, 1.74, 1.82, 1.94, 1.78, 1.83, 1.79, \n",
        "        1.52, 1.69, 1.64, 1.74, 1.65, 1.79, 1.67, 1.79, 1.8, 1.82, 1.91, \n",
        "        1.59, 1.8, 1.69, 1.64, 1.63, 1.7, 1.53, 1.73, 1.68, 1.74, 1.65, 1.71,\n",
        "        1.76, 1.75, 1.88, 1.65, 1.73, 1.74, 1.59, 1.93, 1.8, 1.58, 1.71, 1.8,\n",
        "        1.61, 1.91, 1.77, 1.77, 1.83, 1.83, 1.67, 1.71, 1.5, 1.68, 1.65, 1.76, \n",
        "        1.51, 1.69, 1.58, 1.57, 1.72, 1.8, 1.66, 1.74, 1.72, 1.65, 1.69, 1.52,\n",
        "        1.76, 1.62, 1.81, 1.95, 1.72, 1.77, 1.76, 1.71, 1.9, 1.74, 1.84, 1.99,\n",
        "        1.83, 1.76, 1.76, 1.73, 1.74, 1.8, 1.72, 1.56, 1.57, 1.72, 1.72, 1.7,\n",
        "        1.56, 1.63, 1.71, 1.64, 1.6, 1.77, 1.7, 1.63, 1.81, 1.71, 1.65, 1.62,\n",
        "        1.77, 1.74, 1.71, 1.92, 1.66, 1.68, 1.62, 1.67, 1.65, 1.7, 1.75, 1.7,\n",
        "        1.55, 1.86, 1.59, 1.62, 1.65, 1.51, 1.66, 1.71, 1.71, 1.85, 1.77, 1.76]\n",
        "print(data)"
      ],
      "metadata": {
        "colab": {
          "base_uri": "https://localhost:8080/"
        },
        "id": "Gk1BjoGzjAqr",
        "outputId": "16bbcd69-706c-4217-b400-33a7200257a7"
      },
      "execution_count": 2,
      "outputs": [
        {
          "output_type": "stream",
          "name": "stdout",
          "text": [
            "[1.72, 1.78, 1.74, 1.62, 1.7, 1.68, 1.62, 1.65, 1.77, 1.82, 1.73, 1.65, 1.84, 1.63, 1.81, 1.61, 1.55, 1.61, 1.72, 1.8, 1.7, 1.53, 1.73, 1.58, 1.71, 1.62, 1.76, 1.78, 1.71, 1.87, 1.65, 1.67, 1.71, 1.66, 1.56, 1.86, 1.8, 1.78, 1.75, 1.74, 1.69, 1.69, 1.66, 1.76, 1.83, 1.67, 1.66, 1.73, 1.67, 1.69, 1.74, 1.68, 1.74, 1.9, 1.72, 1.83, 1.81, 1.59, 1.68, 1.59, 1.86, 1.94, 1.77, 1.6, 1.6, 1.67, 1.85, 1.7, 1.74, 1.75, 1.66, 1.66, 1.76, 1.78, 1.72, 1.6, 1.73, 1.77, 1.69, 1.76, 1.6, 1.61, 1.9, 1.84, 1.7, 1.73, 1.72, 1.73, 1.84, 1.73, 1.82, 1.69, 1.67, 1.75, 1.65, 1.76, 1.63, 1.75, 1.8, 1.53, 1.65, 1.71, 1.72, 1.87, 1.63, 1.68, 1.76, 1.65, 1.72, 1.62, 1.64, 1.72, 1.66, 1.61, 1.6, 1.66, 1.66, 1.81, 1.75, 1.64, 1.6, 1.52, 1.68, 1.74, 1.6, 1.77, 1.67, 1.84, 1.96, 1.85, 1.81, 1.69, 1.72, 1.78, 1.78, 1.74, 1.7, 1.63, 1.75, 1.62, 1.7, 1.83, 1.64, 1.62, 1.74, 1.56, 1.72, 1.8, 1.7, 1.6, 1.6, 1.68, 1.81, 1.72, 1.61, 1.79, 1.83, 1.79, 1.69, 1.67, 1.66, 1.61, 1.76, 1.72, 1.73, 1.86, 1.65, 1.7, 1.63, 1.62, 1.8, 1.8, 1.68, 1.68, 1.85, 1.66, 1.74, 1.76, 1.75, 1.67, 1.73, 1.57, 1.66, 1.82, 1.7, 1.78, 1.8, 1.89, 1.64, 1.77, 1.92, 1.58, 1.64, 1.68, 1.7, 1.69, 1.81, 1.85, 1.59, 1.91, 1.85, 1.59, 1.74, 1.89, 1.73, 1.6, 1.62, 1.78, 1.65, 1.66, 1.74, 1.64, 1.65, 1.84, 1.53, 1.73, 1.72, 1.74, 1.57, 1.71, 1.68, 1.83, 1.67, 1.65, 1.75, 1.66, 1.6, 1.66, 1.72, 1.79, 1.74, 1.8, 1.81, 1.54, 1.65, 1.6, 1.81, 1.66, 1.68, 1.76, 1.6, 1.79, 1.59, 1.59, 1.72, 1.75, 1.5, 1.74, 1.88, 1.62, 1.74, 1.76, 1.57, 1.63, 1.67, 1.83, 1.71, 1.8, 1.79, 1.7, 1.77, 1.69, 1.7, 1.58, 1.75, 1.7, 1.77, 1.73, 1.79, 1.8, 1.76, 1.67, 1.78, 1.63, 1.67, 1.76, 1.79, 1.76, 1.86, 1.73, 1.73, 1.72, 1.82, 1.76, 1.77, 1.61, 1.66, 1.63, 1.74, 1.8, 1.64, 1.65, 1.8, 1.85, 1.62, 1.7, 1.64, 1.77, 1.67, 1.79, 1.74, 1.75, 1.87, 1.69, 1.69, 1.74, 1.59, 1.64, 1.61, 1.78, 1.68, 1.82, 1.72, 1.63, 1.74, 1.74, 1.54, 1.91, 1.64, 1.74, 1.7, 1.76, 1.7, 1.65, 1.6, 1.73, 1.74, 1.63, 1.6, 1.65, 1.74, 1.82, 1.55, 1.75, 1.63, 1.7, 1.64, 1.7, 1.88, 1.63, 1.63, 1.78, 1.72, 1.77, 1.75, 1.74, 1.84, 1.65, 1.89, 1.87, 1.8, 1.85, 1.74, 1.7, 1.72, 1.78, 1.82, 1.75, 1.7, 1.82, 1.54, 1.82, 1.62, 1.95, 1.64, 1.74, 1.82, 1.94, 1.78, 1.83, 1.79, 1.52, 1.69, 1.64, 1.74, 1.65, 1.79, 1.67, 1.79, 1.8, 1.82, 1.91, 1.59, 1.8, 1.69, 1.64, 1.63, 1.7, 1.53, 1.73, 1.68, 1.74, 1.65, 1.71, 1.76, 1.75, 1.88, 1.65, 1.73, 1.74, 1.59, 1.93, 1.8, 1.58, 1.71, 1.8, 1.61, 1.91, 1.77, 1.77, 1.83, 1.83, 1.67, 1.71, 1.5, 1.68, 1.65, 1.76, 1.51, 1.69, 1.58, 1.57, 1.72, 1.8, 1.66, 1.74, 1.72, 1.65, 1.69, 1.52, 1.76, 1.62, 1.81, 1.95, 1.72, 1.77, 1.76, 1.71, 1.9, 1.74, 1.84, 1.99, 1.83, 1.76, 1.76, 1.73, 1.74, 1.8, 1.72, 1.56, 1.57, 1.72, 1.72, 1.7, 1.56, 1.63, 1.71, 1.64, 1.6, 1.77, 1.7, 1.63, 1.81, 1.71, 1.65, 1.62, 1.77, 1.74, 1.71, 1.92, 1.66, 1.68, 1.62, 1.67, 1.65, 1.7, 1.75, 1.7, 1.55, 1.86, 1.59, 1.62, 1.65, 1.51, 1.66, 1.71, 1.71, 1.85, 1.77, 1.76]\n"
          ]
        }
      ]
    },
    {
      "cell_type": "code",
      "source": [
        "print(\"Let's see the range of the values!\")\n",
        "print(\"The minimum value of our data is {0}\".format(min(data)))\n",
        "print(\"The maximum value of our data is {0}\".format(max(data)))\n",
        "print(\"The range of our data is {0}\".format(max(data)-min(data)))\n"
      ],
      "metadata": {
        "colab": {
          "base_uri": "https://localhost:8080/"
        },
        "id": "reTFV4lZAtyw",
        "outputId": "3d84ebb7-8dba-4971-e1df-8843451f08a9"
      },
      "execution_count": 3,
      "outputs": [
        {
          "output_type": "stream",
          "name": "stdout",
          "text": [
            "Let's see the range of the values!\n",
            "The minimum value of our data is 1.5\n",
            "The maximum value of our data is 1.99\n",
            "The range of our data is 0.49\n"
          ]
        }
      ]
    },
    {
      "cell_type": "markdown",
      "source": [
        "**Step 1:**\n",
        "Create 5 classes of equal width, and count the grouped frequencies.\n",
        " \n",
        "In this case, we'll define the classes like this:\n",
        " \n",
        "*  The first should include value [1.5, 1.6)\n",
        " \n",
        "*  The second should include value [1.6, 1.7)\n",
        " \n",
        "*  The third should include value [1.7, 1.8)\n",
        " \n",
        "*  The fourth should include value [1.8, 1.9)\n",
        " \n",
        "*  The fifth should include value [1.9, 2.0)\n",
        " \n",
        " \n",
        " \n",
        "The square bracket \"\\[\" and \"\\]\" indicates that the limit value is included in the class. For example, in [1.5, 1.6) values equal to 1.5 are included.\n",
        " \n",
        " \n",
        "The curly bracket indicates that the limit value is **not** included in the class. For example, in [1.5, 1.6) value equal to 1.6 are **not** included."
      ],
      "metadata": {
        "id": "h18URkO4jqwC"
      }
    },
    {
      "cell_type": "markdown",
      "source": [
        "**Step 1.1:**\n",
        "Define a list including the starting and ending points of the 5 classes. \n",
        "\n",
        "The [linspace](https://numpy.org/doc/stable/reference/generated/numpy.linspace.html) function can help us here, as it returns evenly spaced numbers over a specified interval.\n",
        "\n",
        "Hint: The list size will be equal to the number of classes + 1"
      ],
      "metadata": {
        "id": "T_398rdyKGuG"
      }
    },
    {
      "cell_type": "code",
      "source": [
        "split=np.linspace(1.5,2.0,6)\n",
        "print(split)"
      ],
      "metadata": {
        "colab": {
          "base_uri": "https://localhost:8080/"
        },
        "id": "9oemNfkpj6VW",
        "outputId": "38eefc33-825d-4b85-c62d-838958e3847b"
      },
      "execution_count": null,
      "outputs": [
        {
          "output_type": "stream",
          "name": "stdout",
          "text": [
            "[1.5 1.6 1.7 1.8 1.9 2. ]\n"
          ]
        }
      ]
    },
    {
      "cell_type": "markdown",
      "source": [
        "**Step 1.2:**\n",
        "Count the grouped frequencies within the 5 defined classes."
      ],
      "metadata": {
        "id": "fKZA--lgKmsh"
      }
    },
    {
      "cell_type": "code",
      "source": [
        "frequencies = [0] * 5 # creating a list of 5 elements (one for each grouped class), initialise with 0\n",
        "\n",
        "for element in data:\n",
        "  for index in range(0,5):\n",
        "    ### Your code starts here ###\n",
        "    \n",
        "    \n",
        "    ### Your code ends here ###\n",
        "\n",
        "print(frequencies)"
      ],
      "metadata": {
        "colab": {
          "base_uri": "https://localhost:8080/"
        },
        "id": "Z1_kE0ZxkY0I",
        "outputId": "e565ffc7-c498-47cb-f172-8adf69562dfe"
      },
      "execution_count": null,
      "outputs": [
        {
          "output_type": "stream",
          "name": "stdout",
          "text": [
            "[41, 159, 194, 80, 16]\n"
          ]
        }
      ]
    },
    {
      "cell_type": "code",
      "source": [
        "for index in range(0,5):\n",
        "  print(\"There are {0} persons of height within the range [{1}, {2}).\".format(frequencies[index],split[index],split[index+1]))"
      ],
      "metadata": {
        "colab": {
          "base_uri": "https://localhost:8080/"
        },
        "id": "GZ4oXjN4uV03",
        "outputId": "7627d7c8-4cb9-4c05-a98c-7c28a4745508"
      },
      "execution_count": null,
      "outputs": [
        {
          "output_type": "stream",
          "name": "stdout",
          "text": [
            "There are 41 persons of height within the range [1.5, 1.6).\n",
            "There are 159 persons of height within the range [1.6, 1.7).\n",
            "There are 194 persons of height within the range [1.7, 1.8).\n",
            "There are 80 persons of height within the range [1.8, 1.9).\n",
            "There are 16 persons of height within the range [1.9, 2.0).\n"
          ]
        }
      ]
    },
    {
      "cell_type": "markdown",
      "source": [
        "**Step 2**: Calculate the percentage frequency of each class."
      ],
      "metadata": {
        "id": "n2Rj4q9DxmJG"
      }
    },
    {
      "cell_type": "code",
      "source": [
        "### Your code starts here ###\n",
        "\n",
        "\n",
        "### Your code ends here ###\n",
        "\n",
        "print(percentages)"
      ],
      "metadata": {
        "colab": {
          "base_uri": "https://localhost:8080/"
        },
        "id": "dPLdA2rxxsub",
        "outputId": "9926611f-9585-4fb7-c87c-e27c8b1c2114"
      },
      "execution_count": null,
      "outputs": [
        {
          "output_type": "stream",
          "name": "stdout",
          "text": [
            "[8.36734693877551, 32.44897959183673, 39.59183673469388, 16.3265306122449, 3.2653061224489797]\n"
          ]
        }
      ]
    },
    {
      "cell_type": "code",
      "source": [
        "for index in range(0,5):\n",
        "  print(\"{0}% of the individuals in our dataset have a height within the range [{1}, {2}).\".format(percentages[index],split[index],split[index+1]))"
      ],
      "metadata": {
        "colab": {
          "base_uri": "https://localhost:8080/"
        },
        "id": "o5rGddJIyGU1",
        "outputId": "ac2c0c78-9630-401f-b25a-a56fbf678470"
      },
      "execution_count": null,
      "outputs": [
        {
          "output_type": "stream",
          "name": "stdout",
          "text": [
            "8.36734693877551% of the individuals in our dataset have a height within the range [1.5, 1.6).\n",
            "32.44897959183673% of the individuals in our dataset have a height within the range [1.6, 1.7).\n",
            "39.59183673469388% of the individuals in our dataset have a height within the range [1.7, 1.8).\n",
            "16.3265306122449% of the individuals in our dataset have a height within the range [1.8, 1.9).\n",
            "3.2653061224489797% of the individuals in our dataset have a height within the range [1.9, 2.0).\n"
          ]
        }
      ]
    },
    {
      "cell_type": "markdown",
      "source": [
        "**Step 3**: Create a histogram of the grouped frequencies."
      ],
      "metadata": {
        "id": "GwbgOuZiyZIl"
      }
    },
    {
      "cell_type": "markdown",
      "source": [
        "The [hist](https://matplotlib.org/stable/api/_as_gen/matplotlib.pyplot.hist.html) function of matplotlib can practically can do most of the work needed, including the frequency counting per class.\n",
        "\n",
        "You can confirm if you correctly counted the frequencies, by checking the value of \"frequencies_by_hist\"."
      ],
      "metadata": {
        "id": "BKexbkUL5kIv"
      }
    },
    {
      "cell_type": "code",
      "source": [
        "frequencies_by_hist, bins , patches = plt.hist(data,bins=split)\n",
        "plt.ylabel(\"frequencies\")\n",
        "plt.xlabel(\"Height\")\n",
        "print(\"The content of frequencies_by_hist: {0}\".format(frequencies_by_hist))\n",
        "print(\"The content of frequencies: {0}\".format(frequencies))"
      ],
      "metadata": {
        "colab": {
          "base_uri": "https://localhost:8080/",
          "height": 313
        },
        "id": "SK4_qNlv5xLV",
        "outputId": "bf62ff00-26d9-4a54-9b9a-d8c578e8e1a7"
      },
      "execution_count": null,
      "outputs": [
        {
          "output_type": "stream",
          "name": "stdout",
          "text": [
            "The content of frequencies_by_hist: [ 41. 159. 194.  80.  16.]\n",
            "The content of frequencies: [41, 159, 194, 80, 16]\n"
          ]
        },
        {
          "output_type": "display_data",
          "data": {
            "image/png": "[encoded data removed]",
            "text/plain": [
              "<Figure size 432x288 with 1 Axes>"
            ]
          },
          "metadata": {
            "needs_background": "light"
          }
        }
      ]
    }
  ]
}